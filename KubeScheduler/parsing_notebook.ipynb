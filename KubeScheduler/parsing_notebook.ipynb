{
 "cells": [
  {
   "cell_type": "markdown",
   "metadata": {},
   "source": [
    "## Import Libraries"
   ]
  },
  {
   "cell_type": "code",
   "execution_count": 1,
   "metadata": {},
   "outputs": [],
   "source": [
    "from parse_utils import ParseTextOutput"
   ]
  },
  {
   "cell_type": "markdown",
   "metadata": {},
   "source": [
    "## Declare Necessary Variables"
   ]
  },
  {
   "cell_type": "code",
   "execution_count": 2,
   "metadata": {},
   "outputs": [],
   "source": [
    "output_file_path: str = 'example_output.txt'\n",
    "parse_text = ParseTextOutput(output_file_path)"
   ]
  },
  {
   "cell_type": "markdown",
   "metadata": {},
   "source": [
    "## Print JSON-Output"
   ]
  },
  {
   "cell_type": "code",
   "execution_count": 4,
   "metadata": {},
   "outputs": [
    {
     "name": "stdout",
     "output_type": "stream",
     "text": [
      "{\n",
      "    \"Microservice\": \"encode_20000\",\n",
      "    \"Resource\": \"egs\",\n",
      "    \"EarliestStartTime\": \"0.0\",\n",
      "    \"ProcessTime\": \"2.94\"\n",
      "}\n"
     ]
    }
   ],
   "source": [
    "print(parse_text.get_json())"
   ]
  }
 ],
 "metadata": {
  "interpreter": {
   "hash": "85dae35acb68631356537a0b6725b784d3010081eefc3df3095f3bef9ec888f3"
  },
  "kernelspec": {
   "display_name": "Python 3.9.7 64-bit ('scheduler': conda)",
   "language": "python",
   "name": "python3"
  },
  "language_info": {
   "codemirror_mode": {
    "name": "ipython",
    "version": 3
   },
   "file_extension": ".py",
   "mimetype": "text/x-python",
   "name": "python",
   "nbconvert_exporter": "python",
   "pygments_lexer": "ipython3",
   "version": "3.9.7"
  },
  "orig_nbformat": 4
 },
 "nbformat": 4,
 "nbformat_minor": 2
}
